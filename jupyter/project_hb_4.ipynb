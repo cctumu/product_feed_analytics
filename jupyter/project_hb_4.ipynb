{
 "cells": [
  {
   "cell_type": "code",
   "execution_count": 75,
   "metadata": {},
   "outputs": [],
   "source": [
    "import pandas as pd"
   ]
  },
  {
   "cell_type": "code",
   "execution_count": 76,
   "metadata": {},
   "outputs": [
    {
     "data": {
      "text/html": [
       "<style>.container { width:100% !important; }</style>"
      ],
      "text/plain": [
       "<IPython.core.display.HTML object>"
      ]
     },
     "metadata": {},
     "output_type": "display_data"
    }
   ],
   "source": [
    "from IPython.core.display import display, HTML\n",
    "display(HTML(\"<style>.container { width:100% !important; }</style>\"))"
   ]
  },
  {
   "cell_type": "code",
   "execution_count": 77,
   "metadata": {},
   "outputs": [],
   "source": [
    "data_url='http://files-as.intelligentreach.com/feedexports/25ebb945-5a4c-4a3c-99e5-3abea8ce47c0/Habitat_UK_Particular_Audience_V2.xml'\n",
    "data1 = pd.read_csv(data_url, delimiter = '\\t', dtype=str, header = 0, error_bad_lines = False)"
   ]
  },
  {
   "cell_type": "code",
   "execution_count": 127,
   "metadata": {},
   "outputs": [
    {
     "data": {
      "text/html": [
       "<div>\n",
       "<style scoped>\n",
       "    .dataframe tbody tr th:only-of-type {\n",
       "        vertical-align: middle;\n",
       "    }\n",
       "\n",
       "    .dataframe tbody tr th {\n",
       "        vertical-align: top;\n",
       "    }\n",
       "\n",
       "    .dataframe thead th {\n",
       "        text-align: right;\n",
       "    }\n",
       "</style>\n",
       "<table border=\"1\" class=\"dataframe\">\n",
       "  <thead>\n",
       "    <tr style=\"text-align: right;\">\n",
       "      <th></th>\n",
       "      <th>link</th>\n",
       "      <th>google_product_category</th>\n",
       "      <th>title</th>\n",
       "      <th>product_type</th>\n",
       "    </tr>\n",
       "  </thead>\n",
       "  <tbody>\n",
       "    <tr>\n",
       "      <th>0</th>\n",
       "      <td>https://www.habitat.co.uk/chester-black-leather-left-arm-corner-sofa-oak-stained-feet-295257?istCompanyId=25ebb945-5a4c-4a3c-99e5-3abea8ce47c0&amp;istFeedId=562df97e-030e-44b0-8654-5717152e4243&amp;istItemId=wlxmmmapl&amp;istBid=t</td>\n",
       "      <td>Furniture &gt; Sofas</td>\n",
       "      <td>Chester Black Leather Left-Arm Corner Sofa, Oak Stained Feet</td>\n",
       "      <td>Sofas &amp; Armchairs &gt; Corner &amp; chaise sofas</td>\n",
       "    </tr>\n",
       "    <tr>\n",
       "      <th>1</th>\n",
       "      <td>https://www.habitat.co.uk/circles-40-x-50cm-print-by-seventy-tree-334812?istCompanyId=25ebb945-5a4c-4a3c-99e5-3abea8ce47c0&amp;istFeedId=562df97e-030e-44b0-8654-5717152e4243&amp;istItemId=wlxmxpwrt&amp;istBid=t</td>\n",
       "      <td>Home &amp; Garden &gt; Decor &gt; Artwork &gt; Posters, Prints &amp; Visual Artwork</td>\n",
       "      <td>Circles 40 X 50Cm Print By Seventy Tree</td>\n",
       "      <td>Accessories &gt; Home accessories &gt; Wall art</td>\n",
       "    </tr>\n",
       "    <tr>\n",
       "      <th>2</th>\n",
       "      <td>https://www.habitat.co.uk/chester-brown-leather-left-arm-corner-sofa-oak-stained-feet-295263?istCompanyId=25ebb945-5a4c-4a3c-99e5-3abea8ce47c0&amp;istFeedId=562df97e-030e-44b0-8654-5717152e4243&amp;istItemId=wlxmmmapm&amp;istBid=t</td>\n",
       "      <td>Furniture &gt; Sofas</td>\n",
       "      <td>Chester Brown Leather Left-Arm Corner Sofa, Oak Stained Feet</td>\n",
       "      <td>Sofas &amp; Armchairs &gt; Corner &amp; chaise sofas</td>\n",
       "    </tr>\n",
       "    <tr>\n",
       "      <th>3</th>\n",
       "      <td>https://www.habitat.co.uk/gus-large-cream-wool-rug-170-x-240cm-334802?istCompanyId=25ebb945-5a4c-4a3c-99e5-3abea8ce47c0&amp;istFeedId=562df97e-030e-44b0-8654-5717152e4243&amp;istItemId=wlwtqpwxw&amp;istBid=t</td>\n",
       "      <td>Home &amp; Garden &gt; Decor &gt; Rugs</td>\n",
       "      <td>Gus Large Cream Hand-Woven Wool Rug 170 X 240Cm</td>\n",
       "      <td>Soft furnishings &gt; Rugs cushions &amp; throws &gt; RugsSuper Savings &gt; Soft Furnishings Super Savings &gt; RugsHabitat Day &gt; RugsInspiration &gt; BestsellersNew Lower Prices</td>\n",
       "    </tr>\n",
       "    <tr>\n",
       "      <th>4</th>\n",
       "      <td>https://www.habitat.co.uk/smithfield-tan-leather-armchair-295253?istCompanyId=25ebb945-5a4c-4a3c-99e5-3abea8ce47c0&amp;istFeedId=562df97e-030e-44b0-8654-5717152e4243&amp;istItemId=wliwtxatp&amp;istBid=t</td>\n",
       "      <td>Furniture &gt; Chairs &gt; Arm Chairs, Recliners &amp; Sleeper Chairs</td>\n",
       "      <td>Smithfield Tan Leather Armchair With Wooden Feet</td>\n",
       "      <td>Sofas &amp; Armchairs &gt; Armchairs</td>\n",
       "    </tr>\n",
       "    <tr>\n",
       "      <th>...</th>\n",
       "      <td>...</td>\n",
       "      <td>...</td>\n",
       "      <td>...</td>\n",
       "      <td>...</td>\n",
       "    </tr>\n",
       "    <tr>\n",
       "      <th>7596</th>\n",
       "      <td>https://www.habitat.co.uk/tripod-walnut-tripod-floor-lamp-and-saffron-yellow-shade-779463?istCompanyId=25ebb945-5a4c-4a3c-99e5-3abea8ce47c0&amp;istFeedId=562df97e-030e-44b0-8654-5717152e4243&amp;istItemId=irtimmqax&amp;istBid=t</td>\n",
       "      <td>Home &amp; Garden &gt; Lighting &gt; Lamps</td>\n",
       "      <td>Tripod Walnut Tripod Floor Lamp And Saffron Yellow Shade</td>\n",
       "      <td>Offers &gt; Lighting Sale &gt; Lamps sale</td>\n",
       "    </tr>\n",
       "    <tr>\n",
       "      <th>7597</th>\n",
       "      <td>https://www.habitat.co.uk/joseph-joseph-1782613?istCompanyId=25ebb945-5a4c-4a3c-99e5-3abea8ce47c0&amp;istFeedId=562df97e-030e-44b0-8654-5717152e4243&amp;istItemId=irwwriarl&amp;istBid=t</td>\n",
       "      <td>Home &amp; Garden &gt; Household Supplies &gt; Storage &amp; Organisation</td>\n",
       "      <td>Joseph Joseph Grey And Green Nylon Turner Tongs</td>\n",
       "      <td>Kitchen &gt; Food Preparation &gt; Gadgets &amp; UtensilsHabitat Day &gt; Dining &amp; KitchenwareKitchen</td>\n",
       "    </tr>\n",
       "    <tr>\n",
       "      <th>7598</th>\n",
       "      <td>https://www.habitat.co.uk/panda-wooden-bamboo-utensil-holder-1788070?istCompanyId=25ebb945-5a4c-4a3c-99e5-3abea8ce47c0&amp;istFeedId=562df97e-030e-44b0-8654-5717152e4243&amp;istItemId=irwxmwmlr&amp;istBid=t</td>\n",
       "      <td>Home &amp; Garden &gt; Household Supplies &gt; Storage &amp; Organisation</td>\n",
       "      <td>Panda Wooden Bamboo Utensil Holder</td>\n",
       "      <td>Kitchen &gt; Kitchen accessories</td>\n",
       "    </tr>\n",
       "    <tr>\n",
       "      <th>7599</th>\n",
       "      <td>https://www.habitat.co.uk/panda-wooden-bamboo-dish-drainer-1788071?istCompanyId=25ebb945-5a4c-4a3c-99e5-3abea8ce47c0&amp;istFeedId=562df97e-030e-44b0-8654-5717152e4243&amp;istItemId=irwxmwmll&amp;istBid=t</td>\n",
       "      <td>Home &amp; Garden &gt; Household Supplies &gt; Storage &amp; Organisation</td>\n",
       "      <td>Panda Wooden Bamboo Dish Drainer</td>\n",
       "      <td>Kitchen &gt; Kitchen Accessories &gt; Kitchen StorageKitchen &gt; Kitchen Accessories &gt; Dish DrainersHabitat Day &gt; Dining &amp; KitchenwareKitchen</td>\n",
       "    </tr>\n",
       "    <tr>\n",
       "      <th>7600</th>\n",
       "      <td>https://www.habitat.co.uk/panda-cutlery-tray-35-5-x-30cm-1788072?istCompanyId=25ebb945-5a4c-4a3c-99e5-3abea8ce47c0&amp;istFeedId=562df97e-030e-44b0-8654-5717152e4243&amp;istItemId=irwxmwmlm&amp;istBid=t</td>\n",
       "      <td>Home &amp; Garden &gt; Household Supplies &gt; Storage &amp; Organisation</td>\n",
       "      <td>Panda Cutlery Tray 35.5 X 30Cm</td>\n",
       "      <td>Kitchen &gt; Kitchen accessories</td>\n",
       "    </tr>\n",
       "  </tbody>\n",
       "</table>\n",
       "<p>7600 rows × 4 columns</p>\n",
       "</div>"
      ],
      "text/plain": [
       "                                                                                                                                                                                                                            link  \\\n",
       "0     https://www.habitat.co.uk/chester-black-leather-left-arm-corner-sofa-oak-stained-feet-295257?istCompanyId=25ebb945-5a4c-4a3c-99e5-3abea8ce47c0&istFeedId=562df97e-030e-44b0-8654-5717152e4243&istItemId=wlxmmmapl&istBid=t   \n",
       "1     https://www.habitat.co.uk/circles-40-x-50cm-print-by-seventy-tree-334812?istCompanyId=25ebb945-5a4c-4a3c-99e5-3abea8ce47c0&istFeedId=562df97e-030e-44b0-8654-5717152e4243&istItemId=wlxmxpwrt&istBid=t                       \n",
       "2     https://www.habitat.co.uk/chester-brown-leather-left-arm-corner-sofa-oak-stained-feet-295263?istCompanyId=25ebb945-5a4c-4a3c-99e5-3abea8ce47c0&istFeedId=562df97e-030e-44b0-8654-5717152e4243&istItemId=wlxmmmapm&istBid=t   \n",
       "3     https://www.habitat.co.uk/gus-large-cream-wool-rug-170-x-240cm-334802?istCompanyId=25ebb945-5a4c-4a3c-99e5-3abea8ce47c0&istFeedId=562df97e-030e-44b0-8654-5717152e4243&istItemId=wlwtqpwxw&istBid=t                          \n",
       "4     https://www.habitat.co.uk/smithfield-tan-leather-armchair-295253?istCompanyId=25ebb945-5a4c-4a3c-99e5-3abea8ce47c0&istFeedId=562df97e-030e-44b0-8654-5717152e4243&istItemId=wliwtxatp&istBid=t                               \n",
       "...                                                                                                                                                                                              ...                               \n",
       "7596  https://www.habitat.co.uk/tripod-walnut-tripod-floor-lamp-and-saffron-yellow-shade-779463?istCompanyId=25ebb945-5a4c-4a3c-99e5-3abea8ce47c0&istFeedId=562df97e-030e-44b0-8654-5717152e4243&istItemId=irtimmqax&istBid=t      \n",
       "7597  https://www.habitat.co.uk/joseph-joseph-1782613?istCompanyId=25ebb945-5a4c-4a3c-99e5-3abea8ce47c0&istFeedId=562df97e-030e-44b0-8654-5717152e4243&istItemId=irwwriarl&istBid=t                                                \n",
       "7598  https://www.habitat.co.uk/panda-wooden-bamboo-utensil-holder-1788070?istCompanyId=25ebb945-5a4c-4a3c-99e5-3abea8ce47c0&istFeedId=562df97e-030e-44b0-8654-5717152e4243&istItemId=irwxmwmlr&istBid=t                           \n",
       "7599  https://www.habitat.co.uk/panda-wooden-bamboo-dish-drainer-1788071?istCompanyId=25ebb945-5a4c-4a3c-99e5-3abea8ce47c0&istFeedId=562df97e-030e-44b0-8654-5717152e4243&istItemId=irwxmwmll&istBid=t                             \n",
       "7600  https://www.habitat.co.uk/panda-cutlery-tray-35-5-x-30cm-1788072?istCompanyId=25ebb945-5a4c-4a3c-99e5-3abea8ce47c0&istFeedId=562df97e-030e-44b0-8654-5717152e4243&istItemId=irwxmwmlm&istBid=t                               \n",
       "\n",
       "                                                 google_product_category  \\\n",
       "0     Furniture > Sofas                                                    \n",
       "1     Home & Garden > Decor > Artwork > Posters, Prints & Visual Artwork   \n",
       "2     Furniture > Sofas                                                    \n",
       "3     Home & Garden > Decor > Rugs                                         \n",
       "4     Furniture > Chairs > Arm Chairs, Recliners & Sleeper Chairs          \n",
       "...                                                           ...          \n",
       "7596  Home & Garden > Lighting > Lamps                                     \n",
       "7597  Home & Garden > Household Supplies > Storage & Organisation          \n",
       "7598  Home & Garden > Household Supplies > Storage & Organisation          \n",
       "7599  Home & Garden > Household Supplies > Storage & Organisation          \n",
       "7600  Home & Garden > Household Supplies > Storage & Organisation          \n",
       "\n",
       "                                                             title  \\\n",
       "0     Chester Black Leather Left-Arm Corner Sofa, Oak Stained Feet   \n",
       "1     Circles 40 X 50Cm Print By Seventy Tree                        \n",
       "2     Chester Brown Leather Left-Arm Corner Sofa, Oak Stained Feet   \n",
       "3     Gus Large Cream Hand-Woven Wool Rug 170 X 240Cm                \n",
       "4     Smithfield Tan Leather Armchair With Wooden Feet               \n",
       "...                                                ...               \n",
       "7596  Tripod Walnut Tripod Floor Lamp And Saffron Yellow Shade       \n",
       "7597  Joseph Joseph Grey And Green Nylon Turner Tongs                \n",
       "7598  Panda Wooden Bamboo Utensil Holder                             \n",
       "7599  Panda Wooden Bamboo Dish Drainer                               \n",
       "7600  Panda Cutlery Tray 35.5 X 30Cm                                 \n",
       "\n",
       "                                                                                                                                                          product_type  \n",
       "0     Sofas & Armchairs > Corner & chaise sofas                                                                                                                         \n",
       "1     Accessories > Home accessories > Wall art                                                                                                                         \n",
       "2     Sofas & Armchairs > Corner & chaise sofas                                                                                                                         \n",
       "3     Soft furnishings > Rugs cushions & throws > RugsSuper Savings > Soft Furnishings Super Savings > RugsHabitat Day > RugsInspiration > BestsellersNew Lower Prices  \n",
       "4     Sofas & Armchairs > Armchairs                                                                                                                                     \n",
       "...                             ...                                                                                                                                     \n",
       "7596  Offers > Lighting Sale > Lamps sale                                                                                                                               \n",
       "7597  Kitchen > Food Preparation > Gadgets & UtensilsHabitat Day > Dining & KitchenwareKitchen                                                                          \n",
       "7598  Kitchen > Kitchen accessories                                                                                                                                     \n",
       "7599  Kitchen > Kitchen Accessories > Kitchen StorageKitchen > Kitchen Accessories > Dish DrainersHabitat Day > Dining & KitchenwareKitchen                             \n",
       "7600  Kitchen > Kitchen accessories                                                                                                                                     \n",
       "\n",
       "[7600 rows x 4 columns]"
      ]
     },
     "execution_count": 127,
     "metadata": {},
     "output_type": "execute_result"
    }
   ],
   "source": [
    "data_analysis=data1[['link', 'google_product_category', 'title','product_type']].copy()\n",
    "data_analysis.dropna(axis=0, how='any', inplace=True)\n",
    "data_analysis"
   ]
  },
  {
   "cell_type": "code",
   "execution_count": 79,
   "metadata": {},
   "outputs": [],
   "source": [
    "import nltk\n",
    "from nltk.corpus import wordnet as wn\n",
    "from nltk.stem import WordNetLemmatizer\n",
    "wordnet_lemmatizer = WordNetLemmatizer()"
   ]
  },
  {
   "cell_type": "code",
   "execution_count": 80,
   "metadata": {},
   "outputs": [
    {
     "name": "stdout",
     "output_type": "stream",
     "text": [
      "Requirement already satisfied: inflect in c:\\programdata\\anaconda3\\lib\\site-packages (4.1.0)\n",
      "Requirement already satisfied: importlib-metadata; python_version < \"3.8\" in c:\\programdata\\anaconda3\\lib\\site-packages (from inflect) (1.5.0)\n",
      "Requirement already satisfied: zipp>=0.5 in c:\\programdata\\anaconda3\\lib\\site-packages (from importlib-metadata; python_version < \"3.8\"->inflect) (2.2.0)\n"
     ]
    }
   ],
   "source": [
    "!pip install inflect"
   ]
  },
  {
   "cell_type": "code",
   "execution_count": 81,
   "metadata": {},
   "outputs": [],
   "source": [
    "import inflect\n",
    "p = inflect.engine()"
   ]
  },
  {
   "cell_type": "code",
   "execution_count": 82,
   "metadata": {},
   "outputs": [],
   "source": [
    "def filter_nouns(row:str):\n",
    "    punctuations='?:!.,;>&^%$#'\n",
    "    row_words=nltk.word_tokenize(row)\n",
    "    return ' '.join(set([p.singular_noun(word) if p.singular_noun(word) else word for word in row_words if word not in punctuations and (not word.isdigit()) and wn.synsets(word, pos='n')])).lower()"
   ]
  },
  {
   "cell_type": "code",
   "execution_count": 83,
   "metadata": {
    "scrolled": true
   },
   "outputs": [
    {
     "name": "stderr",
     "output_type": "stream",
     "text": [
      "C:\\ProgramData\\Anaconda3\\lib\\site-packages\\ipykernel_launcher.py:1: SettingWithCopyWarning: \n",
      "A value is trying to be set on a copy of a slice from a DataFrame.\n",
      "Try using .loc[row_indexer,col_indexer] = value instead\n",
      "\n",
      "See the caveats in the documentation: https://pandas.pydata.org/pandas-docs/stable/user_guide/indexing.html#returning-a-view-versus-a-copy\n",
      "  \"\"\"Entry point for launching an IPython kernel.\n"
     ]
    }
   ],
   "source": [
    "data_analysis['title_nouns']=data_analysis['title'].apply(filter_nouns)"
   ]
  },
  {
   "cell_type": "code",
   "execution_count": 84,
   "metadata": {},
   "outputs": [
    {
     "data": {
      "text/plain": [
       "0       leather sofa chester black corner oak foot   \n",
       "1       seventy tree print x circle                  \n",
       "2       leather sofa brown chester corner oak foot   \n",
       "3       rug cream large gu wool x                    \n",
       "4       armchair foot tan leather                    \n",
       "                  ...                                \n",
       "7596    tripod lamp walnut floor saffron shade yellow\n",
       "7597    tong green nylon turner joseph grey          \n",
       "7598    panda holder utensil bamboo                  \n",
       "7599    panda dish bamboo                            \n",
       "7600    panda tray x cutlery                         \n",
       "Name: title_nouns, Length: 7600, dtype: object"
      ]
     },
     "execution_count": 84,
     "metadata": {},
     "output_type": "execute_result"
    }
   ],
   "source": [
    "data_analysis['title_nouns']"
   ]
  },
  {
   "cell_type": "code",
   "execution_count": 85,
   "metadata": {},
   "outputs": [],
   "source": [
    "def convert_cat(row:str):\n",
    "    punctuations='?:!.,;>&^%$#'\n",
    "    row_words=nltk.word_tokenize(row)\n",
    "    return ' '.join(set([p.singular_noun(word) if p.singular_noun(word) else word for word in row_words if word not in punctuations and (not word.isdigit())][1:])).lower()"
   ]
  },
  {
   "cell_type": "code",
   "execution_count": 86,
   "metadata": {
    "scrolled": true
   },
   "outputs": [
    {
     "name": "stderr",
     "output_type": "stream",
     "text": [
      "C:\\ProgramData\\Anaconda3\\lib\\site-packages\\ipykernel_launcher.py:1: SettingWithCopyWarning: \n",
      "A value is trying to be set on a copy of a slice from a DataFrame.\n",
      "Try using .loc[row_indexer,col_indexer] = value instead\n",
      "\n",
      "See the caveats in the documentation: https://pandas.pydata.org/pandas-docs/stable/user_guide/indexing.html#returning-a-view-versus-a-copy\n",
      "  \"\"\"Entry point for launching an IPython kernel.\n"
     ]
    }
   ],
   "source": [
    "data_analysis['google_product_category_convert']=data_analysis['google_product_category'].apply(convert_cat)"
   ]
  },
  {
   "cell_type": "code",
   "execution_count": 87,
   "metadata": {
    "scrolled": true
   },
   "outputs": [
    {
     "name": "stderr",
     "output_type": "stream",
     "text": [
      "C:\\ProgramData\\Anaconda3\\lib\\site-packages\\ipykernel_launcher.py:1: SettingWithCopyWarning: \n",
      "A value is trying to be set on a copy of a slice from a DataFrame.\n",
      "Try using .loc[row_indexer,col_indexer] = value instead\n",
      "\n",
      "See the caveats in the documentation: https://pandas.pydata.org/pandas-docs/stable/user_guide/indexing.html#returning-a-view-versus-a-copy\n",
      "  \"\"\"Entry point for launching an IPython kernel.\n"
     ]
    }
   ],
   "source": [
    "data_analysis['product_type_convert']=data_analysis['product_type'].apply(convert_cat)"
   ]
  },
  {
   "cell_type": "code",
   "execution_count": 88,
   "metadata": {},
   "outputs": [
    {
     "data": {
      "text/plain": [
       "0       sofa                                        \n",
       "1       visual artwork print decor poster garden    \n",
       "2       sofa                                        \n",
       "3       decor garden rug                            \n",
       "4       arm sleeper chair recliner                  \n",
       "                   ...                              \n",
       "7596    garden lighting lamp                        \n",
       "7597    garden organisation household supply storage\n",
       "7598    garden organisation household supply storage\n",
       "7599    garden organisation household supply storage\n",
       "7600    garden organisation household supply storage\n",
       "Name: google_product_category_convert, Length: 7600, dtype: object"
      ]
     },
     "execution_count": 88,
     "metadata": {},
     "output_type": "execute_result"
    }
   ],
   "source": [
    "data_analysis['google_product_category_convert']"
   ]
  },
  {
   "cell_type": "code",
   "execution_count": 89,
   "metadata": {},
   "outputs": [
    {
     "data": {
      "text/plain": [
       "0       corner armchair sofa chaise                                                                                                   \n",
       "1       wall art home accessory                                                                                                       \n",
       "2       corner armchair sofa chaise                                                                                                   \n",
       "3       rug soft saving throw cushion rugshabitat rugssuper day price lower bestsellersnew rugsinspiration furnishing super furnishing\n",
       "4       armchair                                                                                                                      \n",
       "          ...                                                                                                                         \n",
       "7596    sale sale lighting lamp                                                                                                       \n",
       "7597    gadget kitchenwarekitchen utensilshabitat food day dining preparation                                                         \n",
       "7598    kitchen accessory                                                                                                             \n",
       "7599    drainershabitat kitchenwarekitchen accessory day dining dish storagekitchen kitchen                                           \n",
       "7600    kitchen accessory                                                                                                             \n",
       "Name: product_type_convert, Length: 7600, dtype: object"
      ]
     },
     "execution_count": 89,
     "metadata": {},
     "output_type": "execute_result"
    }
   ],
   "source": [
    "data_analysis['product_type_convert']"
   ]
  },
  {
   "cell_type": "code",
   "execution_count": 90,
   "metadata": {},
   "outputs": [],
   "source": [
    "# def synset_nouns(row:str):\n",
    "#     punctuations='?:!.,;>&^%$#'\n",
    "#     row_words=nltk.word_tokenize(row)\n",
    "#     return ' '.join(set([w for word in row_words if word not in punctuations and (not word.isdigit()) and wn.synsets(word, pos='n')\n",
    "#                         for w in wn.synsets(word, pos='n')[0].lemma_names()]))"
   ]
  },
  {
   "cell_type": "code",
   "execution_count": 91,
   "metadata": {},
   "outputs": [],
   "source": [
    "# data_analysis['google_product_category_synset']=data_analysis['google_product_category_convert'].apply(synset_nouns)"
   ]
  },
  {
   "cell_type": "code",
   "execution_count": 92,
   "metadata": {
    "scrolled": false
   },
   "outputs": [
    {
     "name": "stderr",
     "output_type": "stream",
     "text": [
      "C:\\ProgramData\\Anaconda3\\lib\\site-packages\\ipykernel_launcher.py:1: FutureWarning: Passing a negative integer is deprecated in version 1.0 and will not be supported in future version. Instead, use None to not limit the column width.\n",
      "  \"\"\"Entry point for launching an IPython kernel.\n"
     ]
    }
   ],
   "source": [
    "pd.set_option('display.max_colwidth', -1)"
   ]
  },
  {
   "cell_type": "code",
   "execution_count": 93,
   "metadata": {},
   "outputs": [],
   "source": [
    "# data_keywords_table= pd.read_csv('item_category_keywords_table - furnishing.csv', delimiter=',', dtype=str, header=0, error_bad_lines=False)\n",
    "# data_analysis_keywords_table=data_keywords_table[['item_category_group_only','category_keywords']]"
   ]
  },
  {
   "cell_type": "code",
   "execution_count": 94,
   "metadata": {},
   "outputs": [],
   "source": [
    "# keyword_dict=dict()\n",
    "# def convert_keywords(word):\n",
    "#     return ' '.join(word.lower().strip().split('|'))"
   ]
  },
  {
   "cell_type": "code",
   "execution_count": 95,
   "metadata": {
    "scrolled": true
   },
   "outputs": [],
   "source": [
    "# data_analysis_keywords_table['category_keywords_convert']= data_analysis_keywords_table['category_keywords'].apply(convert_keywords)\n",
    "# data_analysis_keywords_table.dropna(axis=0, how='any', inplace = True) \n",
    "# data_analysis_keywords_table['item_category_group_only_convert']=data_analysis_keywords_table['item_category_group_only'].apply(lambda r: r.replace('_',' '))\n",
    "# match_dict=dict(zip(data_analysis_keywords_table.item_category_group_only_convert,data_analysis_keywords_table.category_keywords_convert))"
   ]
  },
  {
   "cell_type": "code",
   "execution_count": 96,
   "metadata": {},
   "outputs": [],
   "source": [
    "# import copy\n",
    "# def add_dict(col1, col2, match_dict):\n",
    "#     new_col2=copy.copy(col2)\n",
    "#     for key, value in match_dict.items():\n",
    "#         if key in col1:\n",
    "#             new_col2+=(' '+value)\n",
    "#     return new_col2"
   ]
  },
  {
   "cell_type": "code",
   "execution_count": 97,
   "metadata": {},
   "outputs": [],
   "source": [
    "# data_analysis['new_google_product_category_synset']=data_analysis.apply(lambda cols: add_dict(cols.google_product_category_convert, cols.google_product_category_synset, match_dict), axis=1)\n",
    "# data_analysis['new_google_product_category_synset']=data_analysis.apply(lambda cols: add_dict(cols.title_nouns, cols.new_google_product_category_synset, match_dict), axis=1)"
   ]
  },
  {
   "cell_type": "code",
   "execution_count": 98,
   "metadata": {},
   "outputs": [],
   "source": [
    "# set(data_analysis['new_google_product_category_synset'].tolist())"
   ]
  },
  {
   "cell_type": "code",
   "execution_count": 99,
   "metadata": {},
   "outputs": [],
   "source": [
    "from fuzzywuzzy import fuzz\n",
    "import numpy as np\n",
    "def partial_match(x,y):\n",
    "    return(fuzz.partial_ratio(x,y))\n",
    "partial_match_vector = np.vectorize(partial_match)"
   ]
  },
  {
   "cell_type": "code",
   "execution_count": 100,
   "metadata": {},
   "outputs": [
    {
     "name": "stderr",
     "output_type": "stream",
     "text": [
      "C:\\ProgramData\\Anaconda3\\lib\\site-packages\\ipykernel_launcher.py:1: SettingWithCopyWarning: \n",
      "A value is trying to be set on a copy of a slice from a DataFrame\n",
      "\n",
      "See the caveats in the documentation: https://pandas.pydata.org/pandas-docs/stable/user_guide/indexing.html#returning-a-view-versus-a-copy\n",
      "  \"\"\"Entry point for launching an IPython kernel.\n",
      "C:\\ProgramData\\Anaconda3\\lib\\site-packages\\ipykernel_launcher.py:3: SettingWithCopyWarning: \n",
      "A value is trying to be set on a copy of a slice from a DataFrame.\n",
      "Try using .loc[row_indexer,col_indexer] = value instead\n",
      "\n",
      "See the caveats in the documentation: https://pandas.pydata.org/pandas-docs/stable/user_guide/indexing.html#returning-a-view-versus-a-copy\n",
      "  This is separate from the ipykernel package so we can avoid doing imports until\n"
     ]
    }
   ],
   "source": [
    "data_analysis.dropna(axis=0, how='any', inplace=True)\n",
    "data_analysis['diff_rate']=data_analysis.apply(\n",
    "    lambda x: partial_match_vector(x['google_product_category_convert'], x['title_nouns']), axis=1)"
   ]
  },
  {
   "cell_type": "code",
   "execution_count": 102,
   "metadata": {},
   "outputs": [],
   "source": [
    "# data_analysis['diff_syn_rate'] = data_analysis.apply(\n",
    "#     lambda x: partial_match_vector(x['title_nouns'], x['new_google_product_category_synset']), axis=1) \n"
   ]
  },
  {
   "cell_type": "code",
   "execution_count": 103,
   "metadata": {},
   "outputs": [
    {
     "name": "stderr",
     "output_type": "stream",
     "text": [
      "C:\\ProgramData\\Anaconda3\\lib\\site-packages\\ipykernel_launcher.py:2: SettingWithCopyWarning: \n",
      "A value is trying to be set on a copy of a slice from a DataFrame.\n",
      "Try using .loc[row_indexer,col_indexer] = value instead\n",
      "\n",
      "See the caveats in the documentation: https://pandas.pydata.org/pandas-docs/stable/user_guide/indexing.html#returning-a-view-versus-a-copy\n",
      "  \n"
     ]
    }
   ],
   "source": [
    "data_analysis['diff_rate_cat'] = data_analysis.apply(\n",
    "    lambda x: partial_match_vector(x['google_product_category_convert'], x['product_type_convert']), axis=1)"
   ]
  },
  {
   "cell_type": "code",
   "execution_count": 104,
   "metadata": {
    "scrolled": true
   },
   "outputs": [],
   "source": [
    "# data_analysis['weighted_sort']=data_analysis['diff_syn_rate']*0.5+data_analysis['diff_rate']*0.5\n",
    "# data_analysis=data_analysis.sort_values(['weighted_sort'], ascending = True)\n",
    "data_analysis=data_analysis.sort_values(['diff_rate_cat'], ascending = True)\n",
    "data_analysis.to_csv(\"data_analysis_hb_cat_rate.csv\") "
   ]
  },
  {
   "cell_type": "code",
   "execution_count": 105,
   "metadata": {},
   "outputs": [],
   "source": [
    "data_analysis=data_analysis.sort_values(['diff_rate'], ascending = True)\n",
    "data_analysis.to_csv(\"data_analysis_hb_title_rate.csv\") "
   ]
  },
  {
   "cell_type": "code",
   "execution_count": 106,
   "metadata": {
    "scrolled": true
   },
   "outputs": [
    {
     "data": {
      "text/html": [
       "<div>\n",
       "<style scoped>\n",
       "    .dataframe tbody tr th:only-of-type {\n",
       "        vertical-align: middle;\n",
       "    }\n",
       "\n",
       "    .dataframe tbody tr th {\n",
       "        vertical-align: top;\n",
       "    }\n",
       "\n",
       "    .dataframe thead th {\n",
       "        text-align: right;\n",
       "    }\n",
       "</style>\n",
       "<table border=\"1\" class=\"dataframe\">\n",
       "  <thead>\n",
       "    <tr style=\"text-align: right;\">\n",
       "      <th></th>\n",
       "      <th>title</th>\n",
       "      <th>product_type_convert</th>\n",
       "      <th>diff_rate_cat</th>\n",
       "    </tr>\n",
       "  </thead>\n",
       "  <tbody>\n",
       "    <tr>\n",
       "      <th>9</th>\n",
       "      <td>Nevin Black Powder Coated Metal Wire Kitchen Roll Holder</td>\n",
       "      <td>kitchen accessory drainer dish</td>\n",
       "      <td>33</td>\n",
       "    </tr>\n",
       "    <tr>\n",
       "      <th>3800</th>\n",
       "      <td>Max Oiled Solid Oak Desk With 1 Drawer And 1 Cupboard</td>\n",
       "      <td>desk home office study</td>\n",
       "      <td>33</td>\n",
       "    </tr>\n",
       "    <tr>\n",
       "      <th>115</th>\n",
       "      <td>Delia Yellow Metal Wall Clock</td>\n",
       "      <td>clock home accessory</td>\n",
       "      <td>26</td>\n",
       "    </tr>\n",
       "    <tr>\n",
       "      <th>1974</th>\n",
       "      <td>Protect Double Mattress Protector</td>\n",
       "      <td>pillow linen mattres furnishing bedroom protector</td>\n",
       "      <td>43</td>\n",
       "    </tr>\n",
       "    <tr>\n",
       "      <th>3779</th>\n",
       "      <td>Lorna White Stonewashed Pair Of Rectangular Pillowcases With Grey Stitching</td>\n",
       "      <td>pillowcase bedroom linen furnishing</td>\n",
       "      <td>63</td>\n",
       "    </tr>\n",
       "    <tr>\n",
       "      <th>...</th>\n",
       "      <td>...</td>\n",
       "      <td>...</td>\n",
       "      <td>...</td>\n",
       "    </tr>\n",
       "    <tr>\n",
       "      <th>1845</th>\n",
       "      <td>Spencer Blue Wool 4 Seater Sofa, Oak Legs</td>\n",
       "      <td>armchair linessofa collectionnot disc sofa visible shop category by</td>\n",
       "      <td>100</td>\n",
       "    </tr>\n",
       "    <tr>\n",
       "      <th>1846</th>\n",
       "      <td>Spencer Charcoal Grey Wool 4 Seater Sofa, Oak Legs</td>\n",
       "      <td>material armchair shop by sofa wool</td>\n",
       "      <td>100</td>\n",
       "    </tr>\n",
       "    <tr>\n",
       "      <th>1847</th>\n",
       "      <td>Spencer Blue Wool 3 Seater Sofa, Oak Legs</td>\n",
       "      <td>armchair collectionsofa sofa shop by</td>\n",
       "      <td>100</td>\n",
       "    </tr>\n",
       "    <tr>\n",
       "      <th>1806</th>\n",
       "      <td>Colby Charcoal Grey Italian Woven FaBric 2 Seater Sofa</td>\n",
       "      <td>armchair sofa seater</td>\n",
       "      <td>100</td>\n",
       "    </tr>\n",
       "    <tr>\n",
       "      <th>0</th>\n",
       "      <td>Chester Black Leather Left-Arm Corner Sofa, Oak Stained Feet</td>\n",
       "      <td>corner armchair sofa chaise</td>\n",
       "      <td>100</td>\n",
       "    </tr>\n",
       "  </tbody>\n",
       "</table>\n",
       "<p>7540 rows × 3 columns</p>\n",
       "</div>"
      ],
      "text/plain": [
       "                                                                            title  \\\n",
       "9     Nevin Black Powder Coated Metal Wire Kitchen Roll Holder                      \n",
       "3800  Max Oiled Solid Oak Desk With 1 Drawer And 1 Cupboard                         \n",
       "115   Delia Yellow Metal Wall Clock                                                 \n",
       "1974  Protect Double Mattress Protector                                             \n",
       "3779  Lorna White Stonewashed Pair Of Rectangular Pillowcases With Grey Stitching   \n",
       "...                                                                           ...   \n",
       "1845  Spencer Blue Wool 4 Seater Sofa, Oak Legs                                     \n",
       "1846  Spencer Charcoal Grey Wool 4 Seater Sofa, Oak Legs                            \n",
       "1847  Spencer Blue Wool 3 Seater Sofa, Oak Legs                                     \n",
       "1806  Colby Charcoal Grey Italian Woven FaBric 2 Seater Sofa                        \n",
       "0     Chester Black Leather Left-Arm Corner Sofa, Oak Stained Feet                  \n",
       "\n",
       "                                                     product_type_convert  \\\n",
       "9     kitchen accessory drainer dish                                        \n",
       "3800  desk home office study                                                \n",
       "115   clock home accessory                                                  \n",
       "1974  pillow linen mattres furnishing bedroom protector                     \n",
       "3779  pillowcase bedroom linen furnishing                                   \n",
       "...                                   ...                                   \n",
       "1845  armchair linessofa collectionnot disc sofa visible shop category by   \n",
       "1846  material armchair shop by sofa wool                                   \n",
       "1847  armchair collectionsofa sofa shop by                                  \n",
       "1806  armchair sofa seater                                                  \n",
       "0     corner armchair sofa chaise                                           \n",
       "\n",
       "      diff_rate_cat  \n",
       "9     33             \n",
       "3800  33             \n",
       "115   26             \n",
       "1974  43             \n",
       "3779  63             \n",
       "...   ..             \n",
       "1845  100            \n",
       "1846  100            \n",
       "1847  100            \n",
       "1806  100            \n",
       "0     100            \n",
       "\n",
       "[7540 rows x 3 columns]"
      ]
     },
     "execution_count": 106,
     "metadata": {},
     "output_type": "execute_result"
    }
   ],
   "source": [
    "data_analysis[['title','product_type_convert','diff_rate_cat']][60:]"
   ]
  },
  {
   "cell_type": "code",
   "execution_count": null,
   "metadata": {},
   "outputs": [],
   "source": [
    "!pip install nbconvert\n",
    "!jupyter nbconvert --to script project_hb_4.ipynb"
   ]
  }
 ],
 "metadata": {
  "kernelspec": {
   "display_name": "Python 3",
   "language": "python",
   "name": "python3"
  },
  "language_info": {
   "codemirror_mode": {
    "name": "ipython",
    "version": 3
   },
   "file_extension": ".py",
   "mimetype": "text/x-python",
   "name": "python",
   "nbconvert_exporter": "python",
   "pygments_lexer": "ipython3",
   "version": "3.7.6"
  }
 },
 "nbformat": 4,
 "nbformat_minor": 4
}
